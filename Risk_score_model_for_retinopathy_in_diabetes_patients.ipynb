{
  "nbformat": 4,
  "nbformat_minor": 0,
  "metadata": {
    "colab": {
      "name": "Risk score model for retinopathy in diabetes patients.ipynb",
      "provenance": [],
      "collapsed_sections": [],
      "authorship_tag": "ABX9TyMx6b5pZffpRdYD6Yupbgyy",
      "include_colab_link": true
    },
    "kernelspec": {
      "name": "python3",
      "display_name": "Python 3"
    },
    "language_info": {
      "name": "python"
    }
  },
  "cells": [
    {
      "cell_type": "markdown",
      "metadata": {
        "id": "view-in-github",
        "colab_type": "text"
      },
      "source": [
        "<a href=\"https://colab.research.google.com/github/ThomasNgVn/Risk_Score_Model_for_Diabetes_Patients/blob/main/Risk_score_model_for_retinopathy_in_diabetes_patients.ipynb\" target=\"_parent\"><img src=\"https://colab.research.google.com/assets/colab-badge.svg\" alt=\"Open In Colab\"/></a>"
      ]
    },
    {
      "cell_type": "markdown",
      "metadata": {
        "id": "lEpmKvdM0Yvw"
      },
      "source": [
        "#**<center>RISK SCORE MODEL FOR RETINOPATHY IN DIABETES PATIENTS</center>**"
      ]
    },
    {
      "cell_type": "markdown",
      "metadata": {
        "id": "sPKY38iypC2f"
      },
      "source": [
        "##**Overview of the Project**"
      ]
    },
    {
      "cell_type": "markdown",
      "metadata": {
        "id": "-ms0TmO0pKsH"
      },
      "source": [
        "In this project, I will buid a risk score model for retinopathy in diabetes patients using Logistic Regression.\n",
        "\n",
        "Dataset is get from Coursera (AI for Medicine)\n",
        "\n",
        "###**Retinopathy**\n",
        "Retinopathy is an eye condition that causes changes to the blood vessels in the part of the eye called the retina. This often leads to vision changes or blindness. Diabetic patients are known to be at high risk for retinopathy.\n",
        "\n"
      ]
    },
    {
      "cell_type": "code",
      "metadata": {
        "id": "Ri1JgiON0gZv"
      },
      "source": [
        "import numpy as np\n",
        "import pandas as pd\n",
        "import matplotlib.pyplot as plt\n",
        "from sklearn.model_selection import train_test_split\n",
        "from sklearn.preprocessing import StandardScaler\n",
        "from sklearn.linear_model import LogisticRegression\n",
        "import seaborn as sns"
      ],
      "execution_count": 46,
      "outputs": []
    },
    {
      "cell_type": "markdown",
      "metadata": {
        "id": "giGOVeM233qP"
      },
      "source": [
        "##Load Data"
      ]
    },
    {
      "cell_type": "code",
      "metadata": {
        "colab": {
          "base_uri": "https://localhost:8080/"
        },
        "id": "oOs1s7IK58L9",
        "outputId": "b477fdf9-c280-4234-9c1a-f0ced5f5c704"
      },
      "source": [
        "from google.colab import drive\n",
        "drive.mount('/content/drive')\n"
      ],
      "execution_count": 12,
      "outputs": [
        {
          "output_type": "stream",
          "name": "stdout",
          "text": [
            "Mounted at /content/drive\n"
          ]
        }
      ]
    },
    {
      "cell_type": "code",
      "metadata": {
        "id": "Tmuylk4L38KY"
      },
      "source": [
        "X_df = pd.read_csv('/content/drive/My Drive/Dataset/X_data.csv', index_col=0)\n",
        "y_df = pd.read_csv('/content/drive/My Drive/Dataset/y_data.csv',index_col=0)\n"
      ],
      "execution_count": 32,
      "outputs": []
    },
    {
      "cell_type": "markdown",
      "metadata": {
        "id": "ZgKhTCmIqrSv"
      },
      "source": [
        "##Explore the Dataset\n",
        "\n",
        "The features (`X`) include the following fields:\n",
        "* Age: (years)\n",
        "* Systolic_BP: Systolic blood pressure (mmHg)\n",
        "* Diastolic_BP: Diastolic blood pressure (mmHg)\n",
        "* Cholesterol: (mg/DL)"
      ]
    },
    {
      "cell_type": "code",
      "metadata": {
        "colab": {
          "base_uri": "https://localhost:8080/",
          "height": 206
        },
        "id": "4uC_u0Kd4e7r",
        "outputId": "234df6ca-d4f9-4f6c-a9fe-204b24fda666"
      },
      "source": [
        "X_df.head()"
      ],
      "execution_count": 33,
      "outputs": [
        {
          "output_type": "execute_result",
          "data": {
            "text/html": [
              "<div>\n",
              "<style scoped>\n",
              "    .dataframe tbody tr th:only-of-type {\n",
              "        vertical-align: middle;\n",
              "    }\n",
              "\n",
              "    .dataframe tbody tr th {\n",
              "        vertical-align: top;\n",
              "    }\n",
              "\n",
              "    .dataframe thead th {\n",
              "        text-align: right;\n",
              "    }\n",
              "</style>\n",
              "<table border=\"1\" class=\"dataframe\">\n",
              "  <thead>\n",
              "    <tr style=\"text-align: right;\">\n",
              "      <th></th>\n",
              "      <th>Age</th>\n",
              "      <th>Systolic_BP</th>\n",
              "      <th>Diastolic_BP</th>\n",
              "      <th>Cholesterol</th>\n",
              "    </tr>\n",
              "  </thead>\n",
              "  <tbody>\n",
              "    <tr>\n",
              "      <th>0</th>\n",
              "      <td>77.196340</td>\n",
              "      <td>85.288742</td>\n",
              "      <td>80.021878</td>\n",
              "      <td>79.957109</td>\n",
              "    </tr>\n",
              "    <tr>\n",
              "      <th>1</th>\n",
              "      <td>63.529850</td>\n",
              "      <td>99.379736</td>\n",
              "      <td>84.852361</td>\n",
              "      <td>110.382411</td>\n",
              "    </tr>\n",
              "    <tr>\n",
              "      <th>2</th>\n",
              "      <td>69.003986</td>\n",
              "      <td>111.349455</td>\n",
              "      <td>109.850616</td>\n",
              "      <td>100.828246</td>\n",
              "    </tr>\n",
              "    <tr>\n",
              "      <th>3</th>\n",
              "      <td>82.638210</td>\n",
              "      <td>95.056128</td>\n",
              "      <td>79.666851</td>\n",
              "      <td>87.066303</td>\n",
              "    </tr>\n",
              "    <tr>\n",
              "      <th>4</th>\n",
              "      <td>78.346286</td>\n",
              "      <td>109.154591</td>\n",
              "      <td>90.713220</td>\n",
              "      <td>92.511770</td>\n",
              "    </tr>\n",
              "  </tbody>\n",
              "</table>\n",
              "</div>"
            ],
            "text/plain": [
              "         Age  Systolic_BP  Diastolic_BP  Cholesterol\n",
              "0  77.196340    85.288742     80.021878    79.957109\n",
              "1  63.529850    99.379736     84.852361   110.382411\n",
              "2  69.003986   111.349455    109.850616   100.828246\n",
              "3  82.638210    95.056128     79.666851    87.066303\n",
              "4  78.346286   109.154591     90.713220    92.511770"
            ]
          },
          "metadata": {},
          "execution_count": 33
        }
      ]
    },
    {
      "cell_type": "code",
      "metadata": {
        "colab": {
          "base_uri": "https://localhost:8080/",
          "height": 206
        },
        "id": "6dhS-Tjh6rwP",
        "outputId": "b1010187-4029-4494-eaac-e8cae5393534"
      },
      "source": [
        "y_df.head()"
      ],
      "execution_count": 34,
      "outputs": [
        {
          "output_type": "execute_result",
          "data": {
            "text/html": [
              "<div>\n",
              "<style scoped>\n",
              "    .dataframe tbody tr th:only-of-type {\n",
              "        vertical-align: middle;\n",
              "    }\n",
              "\n",
              "    .dataframe tbody tr th {\n",
              "        vertical-align: top;\n",
              "    }\n",
              "\n",
              "    .dataframe thead th {\n",
              "        text-align: right;\n",
              "    }\n",
              "</style>\n",
              "<table border=\"1\" class=\"dataframe\">\n",
              "  <thead>\n",
              "    <tr style=\"text-align: right;\">\n",
              "      <th></th>\n",
              "      <th>y</th>\n",
              "    </tr>\n",
              "  </thead>\n",
              "  <tbody>\n",
              "    <tr>\n",
              "      <th>0</th>\n",
              "      <td>1.0</td>\n",
              "    </tr>\n",
              "    <tr>\n",
              "      <th>1</th>\n",
              "      <td>1.0</td>\n",
              "    </tr>\n",
              "    <tr>\n",
              "      <th>2</th>\n",
              "      <td>1.0</td>\n",
              "    </tr>\n",
              "    <tr>\n",
              "      <th>3</th>\n",
              "      <td>1.0</td>\n",
              "    </tr>\n",
              "    <tr>\n",
              "      <th>4</th>\n",
              "      <td>1.0</td>\n",
              "    </tr>\n",
              "  </tbody>\n",
              "</table>\n",
              "</div>"
            ],
            "text/plain": [
              "     y\n",
              "0  1.0\n",
              "1  1.0\n",
              "2  1.0\n",
              "3  1.0\n",
              "4  1.0"
            ]
          },
          "metadata": {},
          "execution_count": 34
        }
      ]
    },
    {
      "cell_type": "code",
      "metadata": {
        "id": "EB6duSC964aK"
      },
      "source": [
        "y = y_df['y']"
      ],
      "execution_count": 35,
      "outputs": []
    },
    {
      "cell_type": "markdown",
      "metadata": {
        "id": "1PM82Xcyq20h"
      },
      "source": [
        "Plot the histograms of each column of `X_df` below: "
      ]
    },
    {
      "cell_type": "code",
      "metadata": {
        "colab": {
          "base_uri": "https://localhost:8080/",
          "height": 695
        },
        "id": "Tcbe8Ekq7mtd",
        "outputId": "4ce00675-6d50-42a5-cfe4-dae47704a172"
      },
      "source": [
        "X_df.hist(bins = 50, figsize=(10,10))"
      ],
      "execution_count": 36,
      "outputs": [
        {
          "output_type": "execute_result",
          "data": {
            "text/plain": [
              "array([[<matplotlib.axes._subplots.AxesSubplot object at 0x7f151bf2be90>,\n",
              "        <matplotlib.axes._subplots.AxesSubplot object at 0x7f151be72390>],\n",
              "       [<matplotlib.axes._subplots.AxesSubplot object at 0x7f151be9fa10>,\n",
              "        <matplotlib.axes._subplots.AxesSubplot object at 0x7f151be620d0>]],\n",
              "      dtype=object)"
            ]
          },
          "metadata": {},
          "execution_count": 36
        },
        {
          "output_type": "display_data",
          "data": {
            "image/png": "[encoded data removed]",
            "text/plain": [
              "<Figure size 720x720 with 4 Axes>"
            ]
          },
          "metadata": {
            "needs_background": "light"
          }
        }
      ]
    },
    {
      "cell_type": "code",
      "metadata": {
        "id": "XASsOce58F0L"
      },
      "source": [
        "#Normalize the dataset\n",
        "scaler = StandardScaler()\n",
        "X = scaler.fit_transform(X_df)"
      ],
      "execution_count": 37,
      "outputs": []
    },
    {
      "cell_type": "code",
      "metadata": {
        "id": "GLEq9oe16-HV"
      },
      "source": [
        "X_train, X_test, y_train, y_test = train_test_split(X,y,test_size = 0.2, random_state=68)"
      ],
      "execution_count": 38,
      "outputs": []
    },
    {
      "cell_type": "markdown",
      "metadata": {
        "id": "3ZaO8bby8s0z"
      },
      "source": [
        "##Build Model"
      ]
    },
    {
      "cell_type": "code",
      "metadata": {
        "colab": {
          "base_uri": "https://localhost:8080/"
        },
        "id": "TaS5XfPG8uuJ",
        "outputId": "80cd0da3-8e9c-4a56-ad01-bf53c064a2c1"
      },
      "source": [
        "lr = LogisticRegression()\n",
        "lr.fit(X_train,y_train)\n"
      ],
      "execution_count": 40,
      "outputs": [
        {
          "output_type": "execute_result",
          "data": {
            "text/plain": [
              "LogisticRegression(C=1.0, class_weight=None, dual=False, fit_intercept=True,\n",
              "                   intercept_scaling=1, l1_ratio=None, max_iter=100,\n",
              "                   multi_class='auto', n_jobs=None, penalty='l2',\n",
              "                   random_state=None, solver='lbfgs', tol=0.0001, verbose=0,\n",
              "                   warm_start=False)"
            ]
          },
          "metadata": {},
          "execution_count": 40
        }
      ]
    },
    {
      "cell_type": "markdown",
      "metadata": {
        "id": "sMqnfTQs9WbD"
      },
      "source": [
        "##Evaluate the Model Using the C-index"
      ]
    },
    {
      "cell_type": "markdown",
      "metadata": {
        "id": "h_PkJL8nrIZm"
      },
      "source": [
        "I will use the c-index to evaluate the model\n",
        "* The c-index measures the discriminatory power of a risk score. \n",
        "* Intuitively, a higher c-index indicates that the model's prediction is in agreement with the actual outcomes of a pair of patients.\n",
        "* The formula for the c-index is\n",
        "\n",
        "$$ \\mbox{cindex} = \\frac{\\mbox{concordant} + 0.5 \\times \\mbox{ties}}{\\mbox{permissible}} $$\n",
        "\n",
        "* A permissible pair is a pair of patients who have different outcomes.\n",
        "* A concordant pair is a permissible pair in which the patient with the higher risk score also has the worse outcome.\n",
        "* A tie is a permissible pair where the patients have the same risk score.\n"
      ]
    },
    {
      "cell_type": "code",
      "metadata": {
        "id": "L6E-TG8A9R0e"
      },
      "source": [
        "def cindex(y_true, scores):\n",
        "    n = len(y_true)\n",
        "    assert len(scores) == n\n",
        "    concordant = 0\n",
        "    permissible = 0\n",
        "    ties = 0\n",
        "    for i in range(n):\n",
        "        for j in range(i+1, n): \n",
        "            if y_true[i] != y_true[j]:\n",
        "                permissible = permissible +1\n",
        "                if scores[i]==scores[j]:\n",
        "                    ties=ties+1\n",
        "                    continue\n",
        "                if y_true[i] == 0 and y_true[j] == 1:\n",
        "                    if scores[i] < scores[j]:\n",
        "                        concordant = concordant + 1\n",
        "                if y_true[i] == 1 and y_true[j] == 0:\n",
        "                    if scores[i] > scores[j]:\n",
        "                        concordant = concordant + 1\n",
        "    c_index = (concordant + 0.5*ties)/permissible   \n",
        "    return c_index"
      ],
      "execution_count": 42,
      "outputs": []
    },
    {
      "cell_type": "markdown",
      "metadata": {
        "id": "6cEUFxANrms7"
      },
      "source": [
        "##Evaluate the Model on the Test Set"
      ]
    },
    {
      "cell_type": "code",
      "metadata": {
        "colab": {
          "base_uri": "https://localhost:8080/"
        },
        "id": "6mi4-NCa-DBl",
        "outputId": "639f8f04-5b60-4204-d97f-a773b89774df"
      },
      "source": [
        "scores = lr.predict_proba(X_test)[:,1]\n",
        "c_index = cindex(y_test.values,scores)\n",
        "print(f'C-index on test set is {c_index:.4f}')"
      ],
      "execution_count": 45,
      "outputs": [
        {
          "output_type": "stream",
          "name": "stdout",
          "text": [
            "C-index on test set is 0.8376\n"
          ]
        }
      ]
    },
    {
      "cell_type": "code",
      "metadata": {
        "colab": {
          "base_uri": "https://localhost:8080/",
          "height": 81
        },
        "id": "3MT2u4X5_FCn",
        "outputId": "7231b82a-20e5-4299-a71b-6bd6f2146d26"
      },
      "source": [
        "coeffs = pd.DataFrame(data=lr.coef_, columns = X_df.columns)\n",
        "coeffs.head()"
      ],
      "execution_count": 51,
      "outputs": [
        {
          "output_type": "execute_result",
          "data": {
            "text/html": [
              "<div>\n",
              "<style scoped>\n",
              "    .dataframe tbody tr th:only-of-type {\n",
              "        vertical-align: middle;\n",
              "    }\n",
              "\n",
              "    .dataframe tbody tr th {\n",
              "        vertical-align: top;\n",
              "    }\n",
              "\n",
              "    .dataframe thead th {\n",
              "        text-align: right;\n",
              "    }\n",
              "</style>\n",
              "<table border=\"1\" class=\"dataframe\">\n",
              "  <thead>\n",
              "    <tr style=\"text-align: right;\">\n",
              "      <th></th>\n",
              "      <th>Age</th>\n",
              "      <th>Systolic_BP</th>\n",
              "      <th>Diastolic_BP</th>\n",
              "      <th>Cholesterol</th>\n",
              "    </tr>\n",
              "  </thead>\n",
              "  <tbody>\n",
              "    <tr>\n",
              "      <th>0</th>\n",
              "      <td>1.092647</td>\n",
              "      <td>0.702339</td>\n",
              "      <td>0.007185</td>\n",
              "      <td>0.617359</td>\n",
              "    </tr>\n",
              "  </tbody>\n",
              "</table>\n",
              "</div>"
            ],
            "text/plain": [
              "        Age  Systolic_BP  Diastolic_BP  Cholesterol\n",
              "0  1.092647     0.702339      0.007185     0.617359"
            ]
          },
          "metadata": {},
          "execution_count": 51
        }
      ]
    },
    {
      "cell_type": "code",
      "metadata": {
        "colab": {
          "base_uri": "https://localhost:8080/",
          "height": 283
        },
        "id": "nlDU2gFDAAFC",
        "outputId": "9cd6587b-e38e-4e2f-b46b-43703f9e184a"
      },
      "source": [
        "sns.barplot(data=coeffs)"
      ],
      "execution_count": 52,
      "outputs": [
        {
          "output_type": "execute_result",
          "data": {
            "text/plain": [
              "<matplotlib.axes._subplots.AxesSubplot at 0x7f151094b050>"
            ]
          },
          "metadata": {},
          "execution_count": 52
        },
        {
          "output_type": "display_data",
          "data": {
            "image/png": "[encoded data removed]",
            "text/plain": [
              "<Figure size 432x288 with 1 Axes>"
            ]
          },
          "metadata": {
            "needs_background": "light"
          }
        }
      ]
    },
    {
      "cell_type": "markdown",
      "metadata": {
        "id": "B5Agbz1arywr"
      },
      "source": [
        "Three variables have the largest impact on the model are Age, Syctolic_BP and Cholesterol\n",
        "\n",
        "We need more data on different relevant features to improve the model.\n",
        "\n",
        "This model will help doctor have a better retinopathy pronosis in diabetes patients."
      ]
    }
  ]
}